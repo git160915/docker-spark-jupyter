{
 "cells": [
  {
   "cell_type": "code",
   "execution_count": 1,
   "id": "34707650-8ddb-45d7-8820-faec788f3e4e",
   "metadata": {},
   "outputs": [],
   "source": [
    "from pyspark.sql import SparkSession\n",
    "from pyspark.sql.functions import explode\n",
    "\n",
    "spark = SparkSession \\\n",
    "    .builder \\\n",
    "    .appName(\"pyspark-notebook\") \\\n",
    "    .master(\"spark://spark-master:7077\") \\\n",
    "    .config(\"spark.executor.memory\", \"512m\") \\\n",
    "    .config(\"spark.jars.packages\", \"io.delta:delta-core_2.12:0.8.0\") \\\n",
    "    .config(\"spark.sql.extensions\", \"io.delta.sql.DeltaSparkSessionExtension\") \\\n",
    "    .config(\"spark.sql.catalog.spark_catalog\", \"org.apache.spark.sql.delta.catalog.DeltaCatalog\") \\\n",
    "    .getOrCreate()\n",
    "\n",
    "from delta.tables import *"
   ]
  },
  {
   "cell_type": "code",
   "execution_count": 3,
   "id": "62c6f0a3-6aa1-45d0-a437-2cbf896a7561",
   "metadata": {},
   "outputs": [
    {
     "name": "stdout",
     "output_type": "stream",
     "text": [
      "root\n",
      " |-- Number: integer (nullable = true)\n",
      " |-- Gender: string (nullable = true)\n",
      " |-- NameSet: string (nullable = true)\n",
      " |-- Title: string (nullable = true)\n",
      " |-- GivenName: string (nullable = true)\n",
      " |-- MiddleInitial: string (nullable = true)\n",
      " |-- Surname: string (nullable = true)\n",
      " |-- StreetAddress: string (nullable = true)\n",
      " |-- City: string (nullable = true)\n",
      " |-- State: string (nullable = true)\n",
      " |-- StateFull: string (nullable = true)\n",
      " |-- ZipCode: integer (nullable = true)\n",
      " |-- Country: string (nullable = true)\n",
      " |-- CountryFull: string (nullable = true)\n",
      " |-- EmailAddress: string (nullable = true)\n",
      " |-- Username: string (nullable = true)\n",
      " |-- Password: string (nullable = true)\n",
      " |-- BrowserUserAgent: string (nullable = true)\n",
      " |-- TelephoneNumber: string (nullable = true)\n",
      " |-- TelephoneCountryCode: integer (nullable = true)\n",
      " |-- MothersMaiden: string (nullable = true)\n",
      " |-- Birthday: string (nullable = true)\n",
      " |-- Age: integer (nullable = true)\n",
      " |-- TropicalZodiac: string (nullable = true)\n",
      " |-- CCType: string (nullable = true)\n",
      " |-- CCNumber: long (nullable = true)\n",
      " |-- CVV2: integer (nullable = true)\n",
      " |-- CCExpires: string (nullable = true)\n",
      " |-- NationalID: string (nullable = true)\n",
      " |-- UPS: string (nullable = true)\n",
      " |-- WesternUnionMTCN: long (nullable = true)\n",
      " |-- MoneyGramMTCN: integer (nullable = true)\n",
      " |-- Color: string (nullable = true)\n",
      " |-- Occupation: string (nullable = true)\n",
      " |-- Company: string (nullable = true)\n",
      " |-- Vehicle: string (nullable = true)\n",
      " |-- Domain: string (nullable = true)\n",
      " |-- BloodType: string (nullable = true)\n",
      " |-- Pounds: double (nullable = true)\n",
      " |-- Kilograms: double (nullable = true)\n",
      " |-- FeetInches: string (nullable = true)\n",
      " |-- Centimeters: integer (nullable = true)\n",
      " |-- GUID: string (nullable = true)\n",
      " |-- Latitude: double (nullable = true)\n",
      " |-- Longitude: double (nullable = true)\n",
      "\n",
      "+------+------+----------+-----+---------+-------------+----------+-------------------+--------------------+-----+---------------+-------+-------+-----------+--------------------+-----------+-----------+--------------------+---------------+--------------------+-------------+----------+---+--------------+----------+----------------+----+---------+----------+--------------------+----------------+-------------+------+--------------------+--------------------+-------------------+--------------------+---------+------+---------+----------+-----------+--------------------+----------+----------+\n",
      "|Number|Gender|   NameSet|Title|GivenName|MiddleInitial|   Surname|      StreetAddress|                City|State|      StateFull|ZipCode|Country|CountryFull|        EmailAddress|   Username|   Password|    BrowserUserAgent|TelephoneNumber|TelephoneCountryCode|MothersMaiden|  Birthday|Age|TropicalZodiac|    CCType|        CCNumber|CVV2|CCExpires|NationalID|                 UPS|WesternUnionMTCN|MoneyGramMTCN| Color|          Occupation|             Company|            Vehicle|              Domain|BloodType|Pounds|Kilograms|FeetInches|Centimeters|                GUID|  Latitude| Longitude|\n",
      "+------+------+----------+-----+---------+-------------+----------+-------------------+--------------------+-----+---------------+-------+-------+-----------+--------------------+-----------+-----------+--------------------+---------------+--------------------+-------------+----------+---+--------------+----------+----------------+----+---------+----------+--------------------+----------------+-------------+------+--------------------+--------------------+-------------------+--------------------+---------+------+---------+----------+-----------+--------------------+----------+----------+\n",
      "|     1|  male|Australian|  Mr.|    Dylan|            K|Castellano|    67 Lewin Street|             BECTRIC|  NSW|New South Wales|   2665|     AU|  Australia|DylanCastellano@g...| Conscideur|jafoh6yaiFa|Mozilla/5.0 (Maci...| (02) 6160 9482|                  61|       Delany|12/28/1937| 83|     Capricorn|      Visa|4916963474342197| 393|  12/2022|      null|1Z 148 884 67 499...|      1681196750|     97475140|  Blue|      Office manager|            Mr. AG's|2006 Chevrolet Aveo|PoshApartments.co...|      AB+| 184.4|     83.8|    5' 8\"\"|        173|03aa0302-81f3-464...|-34.200335|146.834605|\n",
      "|     2|female|Australian|  Ms.|  Matilda|            A|    Maxted|   20 Hargrave Road|            COLINTON|  QLD|     Queensland|   4306|     AU|  Australia|MatildaMaxted@gus...|     Mirdid| dieS9Ahroo|Mozilla/5.0 (X11;...| (07) 4553 1552|                  61|  Teichelmann|  6/1/1967| 53|        Gemini|MasterCard|5528540221740175| 620|   6/2025|      null|1Z 4E3 480 93 965...|      3263516298|     61457504|Purple|Laboratory animal...|Avant Garde Inter...|  2005 Kia Magentis|ChiropractorsDire...|       B+| 149.8|     68.1|    5' 8\"\"|        172|963c1353-3657-44a...|-27.070498| 152.38932|\n",
      "|     3|  male|Australian|  Mr.|     Adam|            I|  Heighway| 26 Walder Crescent|CENTRAL QUEENSLAN...|  QLD|     Queensland|   4702|     AU|  Australia|AdamHeighway@army...|Majects1979|  ko8Gie6ci|Mozilla/5.0 (X11;...| (07) 4920 1058|                  61|       Boston| 6/14/1979| 41|        Gemini|      Visa|4539528951618406| 716|   4/2023|      null|1Z 088 832 71 601...|      6371206902|     81937801|  Blue|              Caster|         Zany Brainy|   2002 Opel Vectra|      NunJobs.com.au|       A+| 157.1|     71.4|    5' 7\"\"|        171|434ad0f8-aa0b-469...|-23.875813|148.757677|\n",
      "|     4|  male|Australian|  Dr.|     Hugo|            G|    Sewell|    67 Redesdale Rd|     BENDIGO FORWARD|  VIC|       Victoria|   3551|     AU|  Australia|HugoSewell@flecke...|  Nabou1961| eiL7leo7ai|Mozilla/5.0 (Maci...| (03) 5349 1919|                  61|       Ogilby| 11/1/1961| 59|       Scorpio|MasterCard|5403856798084759| 612|   4/2025|      null|1Z 392 732 94 207...|      6135094679|     83614777| Black|        Periodontist|            Lechmere|    2000 Seat Ibiza|     Patville.com.au|       O+| 250.4|    113.8|    5' 6\"\"|        168|d2df2250-6909-4b7...|-36.794026|144.309643|\n",
      "|     5|female|Australian|  Ms.|    Piper|            L|    Foster|29 Mt Berryman Road|      UPPER TENTHILL|  QLD|     Queensland|   4343|     AU|  Australia|PiperFoster@telew...|     Retion|   Voocuth8|Mozilla/5.0 (X11;...| (07) 4534 9311|                  61|       Newell| 11/7/1968| 52|       Scorpio|MasterCard|5209902788709934| 850|  12/2023|      null|1Z 46V 319 24 801...|      7920737176|     99567156| Black|  Rail yard engineer|         Simply Save|       2006 BMW 750|    BuiltRank.com.au|       O+| 199.1|     90.5|    5' 3\"\"|        160|c240960a-6e50-4e8...|-27.727362|152.249102|\n",
      "+------+------+----------+-----+---------+-------------+----------+-------------------+--------------------+-----+---------------+-------+-------+-----------+--------------------+-----------+-----------+--------------------+---------------+--------------------+-------------+----------+---+--------------+----------+----------------+----+---------+----------+--------------------+----------------+-------------+------+--------------------+--------------------+-------------------+--------------------+---------+------+---------+----------+-----------+--------------------+----------+----------+\n",
      "only showing top 5 rows\n",
      "\n"
     ]
    }
   ],
   "source": [
    "data = spark.read.options(header='True', inferSchema='True', delimiter=',') \\\n",
    "    .csv(\"../data/FakeNames/FakeNameGenerator.com_*.csv\")\n",
    "\n",
    "data.printSchema()\n",
    "data.show(n=5)"
   ]
  },
  {
   "cell_type": "code",
   "execution_count": 6,
   "id": "e420ff36-526b-4ee8-8005-4a67c41398d7",
   "metadata": {},
   "outputs": [],
   "source": [
    "data.write.format(\"delta\").mode(\"overwrite\").save(\"../data/FakeNames/Fakenames-delta-table\")"
   ]
  },
  {
   "cell_type": "code",
   "execution_count": 7,
   "id": "898afec5-49ec-4e99-a35d-35b3f8c044b3",
   "metadata": {},
   "outputs": [
    {
     "data": {
      "text/plain": [
       "200000"
      ]
     },
     "execution_count": 7,
     "metadata": {},
     "output_type": "execute_result"
    }
   ],
   "source": [
    "delta_read = spark.read.format(\"delta\").load(\"../data/FakeNames/Fakenames-delta-table\")\n",
    "delta_read.count()"
   ]
  },
  {
   "cell_type": "code",
   "execution_count": 22,
   "id": "06a3a04a-74c8-41f5-acc1-7eca5c6ef2a2",
   "metadata": {},
   "outputs": [],
   "source": [
    "delta_read.createOrReplaceTempView(\"TBLFAKENAMES\")"
   ]
  },
  {
   "cell_type": "code",
   "execution_count": 8,
   "id": "c1d8926a-64aa-40c9-8129-6a598b4dc8a0",
   "metadata": {},
   "outputs": [
    {
     "name": "stdout",
     "output_type": "stream",
     "text": [
      "+-------+-----------------+------+----------+------+---------+-------------+---------+--------------+-----------+------+--------------------+------------------+-------+-----------+--------------------+---------+-----------+--------------------+---------------+--------------------+-------------+--------+-----------------+--------------+----------+--------------------+------------------+---------+----------+--------------------+-------------------+--------------------+------+------------+-----------------+------------------+----------------+---------+------------------+----------------+----------+-----------------+--------------------+------------------+------------------+\n",
      "|summary|           Number|Gender|   NameSet| Title|GivenName|MiddleInitial|  Surname| StreetAddress|       City| State|           StateFull|           ZipCode|Country|CountryFull|        EmailAddress| Username|   Password|    BrowserUserAgent|TelephoneNumber|TelephoneCountryCode|MothersMaiden|Birthday|              Age|TropicalZodiac|    CCType|            CCNumber|              CVV2|CCExpires|NationalID|                 UPS|   WesternUnionMTCN|       MoneyGramMTCN| Color|  Occupation|          Company|           Vehicle|          Domain|BloodType|            Pounds|       Kilograms|FeetInches|      Centimeters|                GUID|          Latitude|         Longitude|\n",
      "+-------+-----------------+------+----------+------+---------+-------------+---------+--------------+-----------+------+--------------------+------------------+-------+-----------+--------------------+---------+-----------+--------------------+---------------+--------------------+-------------+--------+-----------------+--------------+----------+--------------------+------------------+---------+----------+--------------------+-------------------+--------------------+------+------------+-----------------+------------------+----------------+---------+------------------+----------------+----------+-----------------+--------------------+------------------+------------------+\n",
      "|  count|           200000|200000|    200000|200000|   200000|       200000|   200000|        200000|     200000|200000|              200000|            200000| 200000|     200000|              200000|   200000|     200000|              200000|         200000|              200000|       200000|  200000|           200000|        200000|    200000|              200000|            200000|   200000|         0|              200000|             200000|              200000|200000|      200000|           199802|            200000|          200000|   200000|            200000|          200000|    200000|           200000|              200000|            200000|            200000|\n",
      "|   mean|          50000.5|  null|      null|  null|     null|         null|      NaN|          null|       null|  null|                null|       4057.536235|   null|       null|                null|     null|       null|                null|           null|                61.0|          NaN|    null|         51.99957|          null|      null|5.008296742499379E15|         500.17198|     null|      null|                null| 5.00538888697669E9|    5.008825188813E7|  null|        null|             null|              null|            null|     null| 178.2973430000029|       81.044199|      null|       169.573025|                null|-32.25051189762463| 143.9896277217149|\n",
      "| stddev|28867.58562709219|  null|      null|  null|     null|         null|      NaN|          null|       null|  null|                null|1499.6081686695143|   null|       null|                null|     null|       null|                null|           null|                 0.0|          NaN|    null|19.32732696321283|          null|      null|3.766904071237295E14|288.59996034747587|     null|      null|                null|2.886884921382647E9|2.8898624298627906E7|  null|        null|             null|              null|            null|     null|35.664805882441605|16.2112129054404|      null|9.538388870961715|                null| 5.719957678261932|10.401682785056677|\n",
      "|    min|                1|female|Australian|   Dr.|    Aaron|            A|    Aaron|1 Acheron Road|AARONS PASS|   ACT|Australian Capita...|               800|     AU|  Australia|AaronAbercrombie@...|   Abaces|AB3ar9shee9|Mozilla/5.0 (Maci...| (02) 4000 0053|                  61|        Aaron|1/1/1936|               19|      Aquarius|MasterCard|    4485000019629993|                 1|   1/2022|      null|1Z 000 001 34 627...|              11896|                 161| Black|911 operator|10,000 Auto Parts|1992 Acura Integra|    72907.com.au|       A+|              97.0|            44.1|   4' 11\"\"|              150|000023b3-8cf6-487...|        -43.374739|         96.778011|\n",
      "|    max|           100000|  male|Australian|   Ms.|      Zoe|            Z|de Largie| 99 Zipfs Road|   ZUYTDORP|    WA|   Western Australia|              7470|     AU|  Australia|ZoeZerner@jourrap...|Ã†ner1966|zuzeijah9Ee|Mozilla/5.0 (iPad...| (08) 9499 8780|                  61|    de Largie|9/9/2001|               85|         Virgo|      Visa|    5599999374620002|               999|   9/2026|      null|1Z Y99 Y44 54 818...|         9999990949|            99999941|Yellow|   Zoologist|     id Boutiques| 2015 smart fortwo|vSpecials.com.au|       O-|             257.4|           117.0|    6' 3\"\"|              190|fffffe6b-d32b-48f...|        -10.025845|        159.173135|\n",
      "+-------+-----------------+------+----------+------+---------+-------------+---------+--------------+-----------+------+--------------------+------------------+-------+-----------+--------------------+---------+-----------+--------------------+---------------+--------------------+-------------+--------+-----------------+--------------+----------+--------------------+------------------+---------+----------+--------------------+-------------------+--------------------+------+------------+-----------------+------------------+----------------+---------+------------------+----------------+----------+-----------------+--------------------+------------------+------------------+\n",
      "\n"
     ]
    }
   ],
   "source": [
    "delta_read.describe().show()"
   ]
  },
  {
   "cell_type": "code",
   "execution_count": 21,
   "id": "f8585fc0-4d47-4fe9-b6ae-b3ac44b6434f",
   "metadata": {},
   "outputs": [
    {
     "ename": "AnalysisException",
     "evalue": "cannot resolve '`Number`' given input columns: []; line 1 pos 33;\n'Project ['Number AS TBLFAKENAMES#4365]\n+- 'Filter ('Number < 2)\n   +- OneRowRelation\n",
     "output_type": "error",
     "traceback": [
      "\u001b[0;31m---------------------------------------------------------------------------\u001b[0m",
      "\u001b[0;31mAnalysisException\u001b[0m                         Traceback (most recent call last)",
      "\u001b[0;32m<ipython-input-21-be771a3c2948>\u001b[0m in \u001b[0;36m<module>\u001b[0;34m\u001b[0m\n\u001b[0;32m----> 1\u001b[0;31m \u001b[0mspark\u001b[0m\u001b[0;34m.\u001b[0m\u001b[0msql\u001b[0m\u001b[0;34m(\u001b[0m\u001b[0;34m'SELECT Number TBLFAKENAMES WHERE Number < 2'\u001b[0m\u001b[0;34m)\u001b[0m\u001b[0;34m.\u001b[0m\u001b[0mshow\u001b[0m\u001b[0;34m(\u001b[0m\u001b[0;34m)\u001b[0m\u001b[0;34m\u001b[0m\u001b[0;34m\u001b[0m\u001b[0m\n\u001b[0m",
      "\u001b[0;32m/usr/local/lib/python3.8/dist-packages/pyspark/sql/session.py\u001b[0m in \u001b[0;36msql\u001b[0;34m(self, sqlQuery)\u001b[0m\n\u001b[1;32m    647\u001b[0m         \u001b[0;34m[\u001b[0m\u001b[0mRow\u001b[0m\u001b[0;34m(\u001b[0m\u001b[0mf1\u001b[0m\u001b[0;34m=\u001b[0m\u001b[0;36m1\u001b[0m\u001b[0;34m,\u001b[0m \u001b[0mf2\u001b[0m\u001b[0;34m=\u001b[0m\u001b[0;34mu'row1'\u001b[0m\u001b[0;34m)\u001b[0m\u001b[0;34m,\u001b[0m \u001b[0mRow\u001b[0m\u001b[0;34m(\u001b[0m\u001b[0mf1\u001b[0m\u001b[0;34m=\u001b[0m\u001b[0;36m2\u001b[0m\u001b[0;34m,\u001b[0m \u001b[0mf2\u001b[0m\u001b[0;34m=\u001b[0m\u001b[0;34mu'row2'\u001b[0m\u001b[0;34m)\u001b[0m\u001b[0;34m,\u001b[0m \u001b[0mRow\u001b[0m\u001b[0;34m(\u001b[0m\u001b[0mf1\u001b[0m\u001b[0;34m=\u001b[0m\u001b[0;36m3\u001b[0m\u001b[0;34m,\u001b[0m \u001b[0mf2\u001b[0m\u001b[0;34m=\u001b[0m\u001b[0;34mu'row3'\u001b[0m\u001b[0;34m)\u001b[0m\u001b[0;34m]\u001b[0m\u001b[0;34m\u001b[0m\u001b[0;34m\u001b[0m\u001b[0m\n\u001b[1;32m    648\u001b[0m         \"\"\"\n\u001b[0;32m--> 649\u001b[0;31m         \u001b[0;32mreturn\u001b[0m \u001b[0mDataFrame\u001b[0m\u001b[0;34m(\u001b[0m\u001b[0mself\u001b[0m\u001b[0;34m.\u001b[0m\u001b[0m_jsparkSession\u001b[0m\u001b[0;34m.\u001b[0m\u001b[0msql\u001b[0m\u001b[0;34m(\u001b[0m\u001b[0msqlQuery\u001b[0m\u001b[0;34m)\u001b[0m\u001b[0;34m,\u001b[0m \u001b[0mself\u001b[0m\u001b[0;34m.\u001b[0m\u001b[0m_wrapped\u001b[0m\u001b[0;34m)\u001b[0m\u001b[0;34m\u001b[0m\u001b[0;34m\u001b[0m\u001b[0m\n\u001b[0m\u001b[1;32m    650\u001b[0m \u001b[0;34m\u001b[0m\u001b[0m\n\u001b[1;32m    651\u001b[0m     \u001b[0;34m@\u001b[0m\u001b[0msince\u001b[0m\u001b[0;34m(\u001b[0m\u001b[0;36m2.0\u001b[0m\u001b[0;34m)\u001b[0m\u001b[0;34m\u001b[0m\u001b[0;34m\u001b[0m\u001b[0m\n",
      "\u001b[0;32m/usr/local/lib/python3.8/dist-packages/py4j/java_gateway.py\u001b[0m in \u001b[0;36m__call__\u001b[0;34m(self, *args)\u001b[0m\n\u001b[1;32m   1302\u001b[0m \u001b[0;34m\u001b[0m\u001b[0m\n\u001b[1;32m   1303\u001b[0m         \u001b[0manswer\u001b[0m \u001b[0;34m=\u001b[0m \u001b[0mself\u001b[0m\u001b[0;34m.\u001b[0m\u001b[0mgateway_client\u001b[0m\u001b[0;34m.\u001b[0m\u001b[0msend_command\u001b[0m\u001b[0;34m(\u001b[0m\u001b[0mcommand\u001b[0m\u001b[0;34m)\u001b[0m\u001b[0;34m\u001b[0m\u001b[0;34m\u001b[0m\u001b[0m\n\u001b[0;32m-> 1304\u001b[0;31m         return_value = get_return_value(\n\u001b[0m\u001b[1;32m   1305\u001b[0m             answer, self.gateway_client, self.target_id, self.name)\n\u001b[1;32m   1306\u001b[0m \u001b[0;34m\u001b[0m\u001b[0m\n",
      "\u001b[0;32m/usr/local/lib/python3.8/dist-packages/pyspark/sql/utils.py\u001b[0m in \u001b[0;36mdeco\u001b[0;34m(*a, **kw)\u001b[0m\n\u001b[1;32m    132\u001b[0m                 \u001b[0;31m# Hide where the exception came from that shows a non-Pythonic\u001b[0m\u001b[0;34m\u001b[0m\u001b[0;34m\u001b[0m\u001b[0;34m\u001b[0m\u001b[0m\n\u001b[1;32m    133\u001b[0m                 \u001b[0;31m# JVM exception message.\u001b[0m\u001b[0;34m\u001b[0m\u001b[0;34m\u001b[0m\u001b[0;34m\u001b[0m\u001b[0m\n\u001b[0;32m--> 134\u001b[0;31m                 \u001b[0mraise_from\u001b[0m\u001b[0;34m(\u001b[0m\u001b[0mconverted\u001b[0m\u001b[0;34m)\u001b[0m\u001b[0;34m\u001b[0m\u001b[0;34m\u001b[0m\u001b[0m\n\u001b[0m\u001b[1;32m    135\u001b[0m             \u001b[0;32melse\u001b[0m\u001b[0;34m:\u001b[0m\u001b[0;34m\u001b[0m\u001b[0;34m\u001b[0m\u001b[0m\n\u001b[1;32m    136\u001b[0m                 \u001b[0;32mraise\u001b[0m\u001b[0;34m\u001b[0m\u001b[0;34m\u001b[0m\u001b[0m\n",
      "\u001b[0;32m/usr/local/lib/python3.8/dist-packages/pyspark/sql/utils.py\u001b[0m in \u001b[0;36mraise_from\u001b[0;34m(e)\u001b[0m\n",
      "\u001b[0;31mAnalysisException\u001b[0m: cannot resolve '`Number`' given input columns: []; line 1 pos 33;\n'Project ['Number AS TBLFAKENAMES#4365]\n+- 'Filter ('Number < 2)\n   +- OneRowRelation\n"
     ]
    }
   ],
   "source": [
    "spark.sql(\"SELECT Number TBLFAKENAMES WHERE Number < 2\").show()"
   ]
  },
  {
   "cell_type": "code",
   "execution_count": null,
   "id": "fe6b0b39-5d1f-4371-ba56-fa571a02a84d",
   "metadata": {},
   "outputs": [],
   "source": []
  }
 ],
 "metadata": {
  "kernelspec": {
   "display_name": "Python 3",
   "language": "python",
   "name": "python3"
  },
  "language_info": {
   "codemirror_mode": {
    "name": "ipython",
    "version": 3
   },
   "file_extension": ".py",
   "mimetype": "text/x-python",
   "name": "python",
   "nbconvert_exporter": "python",
   "pygments_lexer": "ipython3",
   "version": "3.8.5"
  }
 },
 "nbformat": 4,
 "nbformat_minor": 5
}
