{
 "cells": [
  {
   "cell_type": "code",
   "execution_count": 1,
   "id": "34707650-8ddb-45d7-8820-faec788f3e4e",
   "metadata": {},
   "outputs": [],
   "source": [
    "from pyspark.sql import SparkSession\n",
    "from pyspark.sql.functions import explode\n",
    "\n",
    "spark = SparkSession \\\n",
    "    .builder \\\n",
    "    .appName(\"pyspark-notebook\") \\\n",
    "    .master(\"spark://spark-master:7077\") \\\n",
    "    .config(\"spark.executor.memory\", \"512m\") \\\n",
    "    .config(\"spark.jars.packages\", \"io.delta:delta-core_2.12:0.8.0\") \\\n",
    "    .config(\"spark.sql.extensions\", \"io.delta.sql.DeltaSparkSessionExtension\") \\\n",
    "    .config(\"spark.sql.catalog.spark_catalog\", \"org.apache.spark.sql.delta.catalog.DeltaCatalog\") \\\n",
    "    .getOrCreate()\n",
    "\n",
    "from delta.tables import *"
   ]
  },
  {
   "cell_type": "code",
   "execution_count": 2,
   "id": "62c6f0a3-6aa1-45d0-a437-2cbf896a7561",
   "metadata": {},
   "outputs": [
    {
     "name": "stdout",
     "output_type": "stream",
     "text": [
      "root\n",
      " |-- Number: integer (nullable = true)\n",
      " |-- Gender: string (nullable = true)\n",
      " |-- NameSet: string (nullable = true)\n",
      " |-- Title: string (nullable = true)\n",
      " |-- GivenName: string (nullable = true)\n",
      " |-- MiddleInitial: string (nullable = true)\n",
      " |-- Surname: string (nullable = true)\n",
      " |-- StreetAddress: string (nullable = true)\n",
      " |-- City: string (nullable = true)\n",
      " |-- State: string (nullable = true)\n",
      " |-- StateFull: string (nullable = true)\n",
      " |-- ZipCode: integer (nullable = true)\n",
      " |-- Country: string (nullable = true)\n",
      " |-- CountryFull: string (nullable = true)\n",
      " |-- EmailAddress: string (nullable = true)\n",
      " |-- Username: string (nullable = true)\n",
      " |-- Password: string (nullable = true)\n",
      " |-- BrowserUserAgent: string (nullable = true)\n",
      " |-- TelephoneNumber: string (nullable = true)\n",
      " |-- TelephoneCountryCode: integer (nullable = true)\n",
      " |-- MothersMaiden: string (nullable = true)\n",
      " |-- Birthday: string (nullable = true)\n",
      " |-- Age: integer (nullable = true)\n",
      " |-- TropicalZodiac: string (nullable = true)\n",
      " |-- CCType: string (nullable = true)\n",
      " |-- CCNumber: long (nullable = true)\n",
      " |-- CVV2: integer (nullable = true)\n",
      " |-- CCExpires: string (nullable = true)\n",
      " |-- NationalID: string (nullable = true)\n",
      " |-- UPS: string (nullable = true)\n",
      " |-- WesternUnionMTCN: long (nullable = true)\n",
      " |-- MoneyGramMTCN: integer (nullable = true)\n",
      " |-- Color: string (nullable = true)\n",
      " |-- Occupation: string (nullable = true)\n",
      " |-- Company: string (nullable = true)\n",
      " |-- Vehicle: string (nullable = true)\n",
      " |-- Domain: string (nullable = true)\n",
      " |-- BloodType: string (nullable = true)\n",
      " |-- Pounds: double (nullable = true)\n",
      " |-- Kilograms: double (nullable = true)\n",
      " |-- FeetInches: string (nullable = true)\n",
      " |-- Centimeters: integer (nullable = true)\n",
      " |-- GUID: string (nullable = true)\n",
      " |-- Latitude: double (nullable = true)\n",
      " |-- Longitude: double (nullable = true)\n",
      "\n",
      "+------+------+----------+-----+---------+-------------+---------+-----------------+--------------+-----+---------------+-------+-------+-----------+--------------------+-----------+------------+--------------------+---------------+--------------------+-------------+----------+---+--------------+----------+----------------+----+---------+----------+--------------------+----------------+-------------+------+--------------------+-----------------+--------------------+--------------------+---------+------+---------+----------+-----------+--------------------+----------+----------+\n",
      "|Number|Gender|   NameSet|Title|GivenName|MiddleInitial|  Surname|    StreetAddress|          City|State|      StateFull|ZipCode|Country|CountryFull|        EmailAddress|   Username|    Password|    BrowserUserAgent|TelephoneNumber|TelephoneCountryCode|MothersMaiden|  Birthday|Age|TropicalZodiac|    CCType|        CCNumber|CVV2|CCExpires|NationalID|                 UPS|WesternUnionMTCN|MoneyGramMTCN| Color|          Occupation|          Company|             Vehicle|              Domain|BloodType|Pounds|Kilograms|FeetInches|Centimeters|                GUID|  Latitude| Longitude|\n",
      "+------+------+----------+-----+---------+-------------+---------+-----------------+--------------+-----+---------------+-------+-------+-----------+--------------------+-----------+------------+--------------------+---------------+--------------------+-------------+----------+---+--------------+----------+----------------+----+---------+----------+--------------------+----------------+-------------+------+--------------------+-----------------+--------------------+--------------------+---------+------+---------+----------+-----------+--------------------+----------+----------+\n",
      "|     1|  male|Australian|  Mr.|   Nathan|            K|    Arida|  64 Seninis Road|MOUNT SURROUND|  QLD|     Queensland|   4809|     AU|  Australia|NathanArida@gustr...|   Formly39|   CooyeeNg5|Mozilla/5.0 (X11;...| (07) 4078 4532|                  61|      Swanton| 9/13/1939| 81|         Virgo|      Visa|4916706296208330| 155|   9/2023|      null|1Z 645 74Y 48 526...|      8412074272|     55132846|  Blue|Forest and conser...|            Orion|   1997 Nissan 400 R|   SECMeeting.com.au|       O+| 199.3|     90.6|   5' 11\"\"|        180|b95d1616-0def-4ff...|-19.662349|147.199677|\n",
      "|     2|  male|Australian|  Mr.|   Joshua|            P|Trevascus|  75 Cherry Grove|      SMITHTON|  TAS|       Tasmania|   7330|     AU|  Australia|JoshuaTrevascus@a...|  Rusid1964| eis9Aiph0oo|Mozilla/5.0 (Wind...| (03) 6261 2036|                  61|        Byles|  7/1/1964| 56|        Cancer|MasterCard|5274241028918348| 354|  12/2024|      null|1Z 985 930 80 156...|      3356978471|     85920454| Green|    Soldering worker|   Dee's Drive-In|2006 SsangYong Kyron|PurchaseLumber.co...|       B+| 210.5|     95.7|   5' 10\"\"|        179|389f25bc-69a4-4f9...| -41.02623|144.940886|\n",
      "|     3|female|Australian|  Ms.|    Alica|            Z|    Lewis|76 Spencer Street|      YAROOMBA|  QLD|     Queensland|   4573|     AU|  Australia|AlicaLewis@gustr.com|    Annothe| ach0anaPuqu|Mozilla/5.0 (Maci...| (07) 5350 6742|                  61|     Corfield|12/21/1944| 76|   Sagittarius|MasterCard|5149880884378312| 683|   6/2025|      null|1Z 686 434 91 491...|      3894292278|     58660109|Purple|      Transfer clerk|Children's Palace|  2012 Dodge Journey|CleaningInvention...|       B+| 174.0|     79.1|    5' 3\"\"|        161|0d86ada7-4271-42d...|-26.612733|153.075525|\n",
      "|     4|  male|Australian|  Mr.|    Aiden|            R|  Mattner|   89 Moruya Road|    MONGARLOWE|  NSW|New South Wales|   2622|     AU|  Australia|AidenMattner@gust...|     Repask|  Ta6ueGhae1|Mozilla/5.0 (X11;...| (02) 6190 4855|                  61|    Mackenzie| 6/28/1948| 72|        Cancer|MasterCard|5297717742063787| 301|   2/2023|      null|1Z 860 349 18 707...|      4672894936|     23696202|   Red|      Vice president| Saturday Matinee|     2006 Toyota MR2|  MobileCamps.com.au|      AB-| 150.7|     68.5|    5' 9\"\"|        175|8af4881e-e8fc-454...|-35.540778|149.827102|\n",
      "|     5|  male|Australian|  Mr.|    Jacob|            J| Fletcher|  3 Taylor Street|        BEARII|  VIC|       Victoria|   3641|     AU|  Australia|JacobFletcher@day...|Hathimerent|aeXaeK2oa1ah|Mozilla/5.0 (X11;...| (03) 5345 7436|                  61|   Hagelthorn| 3/27/1956| 64|         Aries|      Visa|4929553773791825|  26|   5/2022|      null|1Z 62F 136 94 385...|      2952449496|     85710088|  Blue|             Blaster| Parts and Pieces|    1995 Subaru Alfa|TicketScanners.co...|       B+| 138.2|     62.8|    5' 8\"\"|        173|9aa864e4-7b13-4f4...|-35.934541|145.399223|\n",
      "+------+------+----------+-----+---------+-------------+---------+-----------------+--------------+-----+---------------+-------+-------+-----------+--------------------+-----------+------------+--------------------+---------------+--------------------+-------------+----------+---+--------------+----------+----------------+----+---------+----------+--------------------+----------------+-------------+------+--------------------+-----------------+--------------------+--------------------+---------+------+---------+----------+-----------+--------------------+----------+----------+\n",
      "only showing top 5 rows\n",
      "\n"
     ]
    }
   ],
   "source": [
    "data = spark.read.options(header='True', inferSchema='True', delimiter=',') \\\n",
    "    .csv(\"/opt/workspace/FakeNameGenerator.com_000ba228.csv\")\n",
    "\n",
    "data.printSchema()\n",
    "data.show(n=5)"
   ]
  },
  {
   "cell_type": "code",
   "execution_count": 11,
   "id": "e420ff36-526b-4ee8-8005-4a67c41398d7",
   "metadata": {},
   "outputs": [],
   "source": [
    "data.write.format(\"delta\").mode(\"overwrite\").save(\"/opt/workspace/Fakenames-delta-table\")"
   ]
  },
  {
   "cell_type": "code",
   "execution_count": 17,
   "id": "898afec5-49ec-4e99-a35d-35b3f8c044b3",
   "metadata": {},
   "outputs": [
    {
     "name": "stdout",
     "output_type": "stream",
     "text": [
      "+------+------+----------+-----+---------+-------------+-------+---------------+--------------+-----+----------+-------+-------+-----------+--------------------+--------+---------+--------------------+---------------+--------------------+-------------+---------+---+--------------+------+----------------+----+---------+----------+--------------------+----------------+-------------+-----+--------------------+-------+-----------------+-----------------+---------+------+---------+----------+-----------+--------------------+----------+----------+\n",
      "|Number|Gender|   NameSet|Title|GivenName|MiddleInitial|Surname|  StreetAddress|          City|State| StateFull|ZipCode|Country|CountryFull|        EmailAddress|Username| Password|    BrowserUserAgent|TelephoneNumber|TelephoneCountryCode|MothersMaiden| Birthday|Age|TropicalZodiac|CCType|        CCNumber|CVV2|CCExpires|NationalID|                 UPS|WesternUnionMTCN|MoneyGramMTCN|Color|          Occupation|Company|          Vehicle|           Domain|BloodType|Pounds|Kilograms|FeetInches|Centimeters|                GUID|  Latitude| Longitude|\n",
      "+------+------+----------+-----+---------+-------------+-------+---------------+--------------+-----+----------+-------+-------+-----------+--------------------+--------+---------+--------------------+---------------+--------------------+-------------+---------+---+--------------+------+----------------+----+---------+----------+--------------------+----------------+-------------+-----+--------------------+-------+-----------------+-----------------+---------+------+---------+----------+-----------+--------------------+----------+----------+\n",
      "|     1|  male|Australian|  Mr.|   Nathan|            K|  Arida|64 Seninis Road|MOUNT SURROUND|  QLD|Queensland|   4809|     AU|  Australia|NathanArida@gustr...|Formly39|CooyeeNg5|Mozilla/5.0 (X11;...| (07) 4078 4532|                  61|      Swanton|9/13/1939| 81|         Virgo|  Visa|4916706296208330| 155|   9/2023|      null|1Z 645 74Y 48 526...|      8412074272|     55132846| Blue|Forest and conser...|  Orion|1997 Nissan 400 R|SECMeeting.com.au|       O+| 199.3|     90.6|   5' 11\"\"|        180|b95d1616-0def-4ff...|-19.662349|147.199677|\n",
      "+------+------+----------+-----+---------+-------------+-------+---------------+--------------+-----+----------+-------+-------+-----------+--------------------+--------+---------+--------------------+---------------+--------------------+-------------+---------+---+--------------+------+----------------+----+---------+----------+--------------------+----------------+-------------+-----+--------------------+-------+-----------------+-----------------+---------+------+---------+----------+-----------+--------------------+----------+----------+\n",
      "only showing top 1 row\n",
      "\n"
     ]
    }
   ],
   "source": [
    "delta_read = spark.read.format(\"delta\").load(\"/opt/workspace/Fakenames-delta-table\")\n",
    "delta_read.show(n=1)"
   ]
  },
  {
   "cell_type": "code",
   "execution_count": 22,
   "id": "06a3a04a-74c8-41f5-acc1-7eca5c6ef2a2",
   "metadata": {},
   "outputs": [],
   "source": [
    "delta_read.createOrReplaceTempView(\"TBLFAKENAMES\")"
   ]
  },
  {
   "cell_type": "code",
   "execution_count": 24,
   "id": "c1d8926a-64aa-40c9-8129-6a598b4dc8a0",
   "metadata": {},
   "outputs": [
    {
     "name": "stdout",
     "output_type": "stream",
     "text": [
      "+-------+-----------------+------+----------+------+---------+-------------+---------+--------------+-----------+------+--------------------+------------------+-------+-----------+--------------------+--------+-----------+--------------------+---------------+--------------------+-------------+--------+------------------+--------------+----------+--------------------+-----------------+---------+----------+--------------------+-------------------+-------------------+------+------------+-----------------+------------------+----------------+---------+------------------+-----------------+----------+-----------------+--------------------+------------------+------------------+\n",
      "|summary|           Number|Gender|   NameSet| Title|GivenName|MiddleInitial|  Surname| StreetAddress|       City| State|           StateFull|           ZipCode|Country|CountryFull|        EmailAddress|Username|   Password|    BrowserUserAgent|TelephoneNumber|TelephoneCountryCode|MothersMaiden|Birthday|               Age|TropicalZodiac|    CCType|            CCNumber|             CVV2|CCExpires|NationalID|                 UPS|   WesternUnionMTCN|      MoneyGramMTCN| Color|  Occupation|          Company|           Vehicle|          Domain|BloodType|            Pounds|        Kilograms|FeetInches|      Centimeters|                GUID|          Latitude|         Longitude|\n",
      "+-------+-----------------+------+----------+------+---------+-------------+---------+--------------+-----------+------+--------------------+------------------+-------+-----------+--------------------+--------+-----------+--------------------+---------------+--------------------+-------------+--------+------------------+--------------+----------+--------------------+-----------------+---------+----------+--------------------+-------------------+-------------------+------+------------+-----------------+------------------+----------------+---------+------------------+-----------------+----------+-----------------+--------------------+------------------+------------------+\n",
      "|  count|           100000|100000|    100000|100000|   100000|       100000|   100000|        100000|     100000|100000|              100000|            100000| 100000|     100000|              100000|  100000|     100000|              100000|         100000|              100000|       100000|  100000|            100000|        100000|    100000|              100000|           100000|   100000|         0|              100000|             100000|             100000|100000|      100000|            99894|            100000|          100000|   100000|            100000|           100000|    100000|           100000|              100000|            100000|            100000|\n",
      "|   mean|          50000.5|  null|      null|  null|     null|         null|      NaN|          null|       null|  null|                null|        4053.86348|   null|       null|                null|    null|       null|                null|           null|                61.0|          NaN|    null|          51.94243|          null|      null|5.008558395721117E15|        500.84509|     null|      null|                null| 5.00272027571852E9|    5.01198558158E7|  null|        null|             null|              null|            null|     null|178.20796800000033|81.00359000000012|      null|        169.56814|                null|-32.25304712135975|143.99766718749973|\n",
      "| stddev|28867.65779668774|  null|      null|  null|     null|         null|      NaN|          null|       null|  null|                null|1496.7136660631766|   null|       null|                null|    null|       null|                null|           null|                 0.0|          NaN|    null|19.297481691223247|          null|      null|3.768359584466071E14|288.3085365559172|     null|      null|                null|2.888214654545636E9|2.890640898038302E7|  null|        null|             null|              null|            null|     null| 35.64753572098643|16.20333723630021|      null|9.529713799209878|                null| 5.714470181392545| 10.39975150309309|\n",
      "|    min|                1|female|Australian|   Dr.|    Aaron|            A|    Aaron|1 Acheron Road|AARONS PASS|   ACT|Australian Capita...|               800|     AU|  Australia|AaronAbercrombie@...|  Abaces|  AB3eePhei|Mozilla/5.0 (Maci...| (02) 4000 0348|                  61|        Aaron|1/1/1936|                19|      Aquarius|MasterCard|    4485000019629993|                1|   1/2022|      null|1Z 000 001 34 627...|              26872|               2009| Black|911 operator|10,000 Auto Parts|1992 Acura Integra|    72907.com.au|       A+|              97.2|             44.2|   4' 11\"\"|              150|00005d8c-8dec-48a...|        -43.374739|          96.78191|\n",
      "|    max|           100000|  male|Australian|   Ms.|      Zoe|            Z|de Largie| 99 Zipfs Road|   ZUYTDORP|    WA|   Western Australia|              7470|     AU|  Australia|ZoeZerner@jourrap...|   Ã†ner|zuyoo9Jitha|Mozilla/5.0 (iPad...| (08) 9499 8166|                  61|    de Largie|9/9/2001|                85|         Virgo|      Visa|    5599991312277979|              999|   9/2026|      null|1Z Y99 W47 01 308...|         9999941222|           99997133|Yellow|   Zoologist|     id Boutiques| 2015 smart fortwo|vSpecials.com.au|       O-|             257.4|            117.0|    6' 3\"\"|              190|fffffc6e-4e15-431...|        -10.025845|        159.140528|\n",
      "+-------+-----------------+------+----------+------+---------+-------------+---------+--------------+-----------+------+--------------------+------------------+-------+-----------+--------------------+--------+-----------+--------------------+---------------+--------------------+-------------+--------+------------------+--------------+----------+--------------------+-----------------+---------+----------+--------------------+-------------------+-------------------+------+------------+-----------------+------------------+----------------+---------+------------------+-----------------+----------+-----------------+--------------------+------------------+------------------+\n",
      "\n"
     ]
    }
   ],
   "source": [
    "delta_read.describe().show()"
   ]
  },
  {
   "cell_type": "code",
   "execution_count": 21,
   "id": "f8585fc0-4d47-4fe9-b6ae-b3ac44b6434f",
   "metadata": {},
   "outputs": [
    {
     "ename": "AnalysisException",
     "evalue": "cannot resolve '`Number`' given input columns: []; line 1 pos 33;\n'Project ['Number AS TBLFAKENAMES#4365]\n+- 'Filter ('Number < 2)\n   +- OneRowRelation\n",
     "output_type": "error",
     "traceback": [
      "\u001b[0;31m---------------------------------------------------------------------------\u001b[0m",
      "\u001b[0;31mAnalysisException\u001b[0m                         Traceback (most recent call last)",
      "\u001b[0;32m<ipython-input-21-be771a3c2948>\u001b[0m in \u001b[0;36m<module>\u001b[0;34m\u001b[0m\n\u001b[0;32m----> 1\u001b[0;31m \u001b[0mspark\u001b[0m\u001b[0;34m.\u001b[0m\u001b[0msql\u001b[0m\u001b[0;34m(\u001b[0m\u001b[0;34m'SELECT Number TBLFAKENAMES WHERE Number < 2'\u001b[0m\u001b[0;34m)\u001b[0m\u001b[0;34m.\u001b[0m\u001b[0mshow\u001b[0m\u001b[0;34m(\u001b[0m\u001b[0;34m)\u001b[0m\u001b[0;34m\u001b[0m\u001b[0;34m\u001b[0m\u001b[0m\n\u001b[0m",
      "\u001b[0;32m/usr/local/lib/python3.8/dist-packages/pyspark/sql/session.py\u001b[0m in \u001b[0;36msql\u001b[0;34m(self, sqlQuery)\u001b[0m\n\u001b[1;32m    647\u001b[0m         \u001b[0;34m[\u001b[0m\u001b[0mRow\u001b[0m\u001b[0;34m(\u001b[0m\u001b[0mf1\u001b[0m\u001b[0;34m=\u001b[0m\u001b[0;36m1\u001b[0m\u001b[0;34m,\u001b[0m \u001b[0mf2\u001b[0m\u001b[0;34m=\u001b[0m\u001b[0;34mu'row1'\u001b[0m\u001b[0;34m)\u001b[0m\u001b[0;34m,\u001b[0m \u001b[0mRow\u001b[0m\u001b[0;34m(\u001b[0m\u001b[0mf1\u001b[0m\u001b[0;34m=\u001b[0m\u001b[0;36m2\u001b[0m\u001b[0;34m,\u001b[0m \u001b[0mf2\u001b[0m\u001b[0;34m=\u001b[0m\u001b[0;34mu'row2'\u001b[0m\u001b[0;34m)\u001b[0m\u001b[0;34m,\u001b[0m \u001b[0mRow\u001b[0m\u001b[0;34m(\u001b[0m\u001b[0mf1\u001b[0m\u001b[0;34m=\u001b[0m\u001b[0;36m3\u001b[0m\u001b[0;34m,\u001b[0m \u001b[0mf2\u001b[0m\u001b[0;34m=\u001b[0m\u001b[0;34mu'row3'\u001b[0m\u001b[0;34m)\u001b[0m\u001b[0;34m]\u001b[0m\u001b[0;34m\u001b[0m\u001b[0;34m\u001b[0m\u001b[0m\n\u001b[1;32m    648\u001b[0m         \"\"\"\n\u001b[0;32m--> 649\u001b[0;31m         \u001b[0;32mreturn\u001b[0m \u001b[0mDataFrame\u001b[0m\u001b[0;34m(\u001b[0m\u001b[0mself\u001b[0m\u001b[0;34m.\u001b[0m\u001b[0m_jsparkSession\u001b[0m\u001b[0;34m.\u001b[0m\u001b[0msql\u001b[0m\u001b[0;34m(\u001b[0m\u001b[0msqlQuery\u001b[0m\u001b[0;34m)\u001b[0m\u001b[0;34m,\u001b[0m \u001b[0mself\u001b[0m\u001b[0;34m.\u001b[0m\u001b[0m_wrapped\u001b[0m\u001b[0;34m)\u001b[0m\u001b[0;34m\u001b[0m\u001b[0;34m\u001b[0m\u001b[0m\n\u001b[0m\u001b[1;32m    650\u001b[0m \u001b[0;34m\u001b[0m\u001b[0m\n\u001b[1;32m    651\u001b[0m     \u001b[0;34m@\u001b[0m\u001b[0msince\u001b[0m\u001b[0;34m(\u001b[0m\u001b[0;36m2.0\u001b[0m\u001b[0;34m)\u001b[0m\u001b[0;34m\u001b[0m\u001b[0;34m\u001b[0m\u001b[0m\n",
      "\u001b[0;32m/usr/local/lib/python3.8/dist-packages/py4j/java_gateway.py\u001b[0m in \u001b[0;36m__call__\u001b[0;34m(self, *args)\u001b[0m\n\u001b[1;32m   1302\u001b[0m \u001b[0;34m\u001b[0m\u001b[0m\n\u001b[1;32m   1303\u001b[0m         \u001b[0manswer\u001b[0m \u001b[0;34m=\u001b[0m \u001b[0mself\u001b[0m\u001b[0;34m.\u001b[0m\u001b[0mgateway_client\u001b[0m\u001b[0;34m.\u001b[0m\u001b[0msend_command\u001b[0m\u001b[0;34m(\u001b[0m\u001b[0mcommand\u001b[0m\u001b[0;34m)\u001b[0m\u001b[0;34m\u001b[0m\u001b[0;34m\u001b[0m\u001b[0m\n\u001b[0;32m-> 1304\u001b[0;31m         return_value = get_return_value(\n\u001b[0m\u001b[1;32m   1305\u001b[0m             answer, self.gateway_client, self.target_id, self.name)\n\u001b[1;32m   1306\u001b[0m \u001b[0;34m\u001b[0m\u001b[0m\n",
      "\u001b[0;32m/usr/local/lib/python3.8/dist-packages/pyspark/sql/utils.py\u001b[0m in \u001b[0;36mdeco\u001b[0;34m(*a, **kw)\u001b[0m\n\u001b[1;32m    132\u001b[0m                 \u001b[0;31m# Hide where the exception came from that shows a non-Pythonic\u001b[0m\u001b[0;34m\u001b[0m\u001b[0;34m\u001b[0m\u001b[0;34m\u001b[0m\u001b[0m\n\u001b[1;32m    133\u001b[0m                 \u001b[0;31m# JVM exception message.\u001b[0m\u001b[0;34m\u001b[0m\u001b[0;34m\u001b[0m\u001b[0;34m\u001b[0m\u001b[0m\n\u001b[0;32m--> 134\u001b[0;31m                 \u001b[0mraise_from\u001b[0m\u001b[0;34m(\u001b[0m\u001b[0mconverted\u001b[0m\u001b[0;34m)\u001b[0m\u001b[0;34m\u001b[0m\u001b[0;34m\u001b[0m\u001b[0m\n\u001b[0m\u001b[1;32m    135\u001b[0m             \u001b[0;32melse\u001b[0m\u001b[0;34m:\u001b[0m\u001b[0;34m\u001b[0m\u001b[0;34m\u001b[0m\u001b[0m\n\u001b[1;32m    136\u001b[0m                 \u001b[0;32mraise\u001b[0m\u001b[0;34m\u001b[0m\u001b[0;34m\u001b[0m\u001b[0m\n",
      "\u001b[0;32m/usr/local/lib/python3.8/dist-packages/pyspark/sql/utils.py\u001b[0m in \u001b[0;36mraise_from\u001b[0;34m(e)\u001b[0m\n",
      "\u001b[0;31mAnalysisException\u001b[0m: cannot resolve '`Number`' given input columns: []; line 1 pos 33;\n'Project ['Number AS TBLFAKENAMES#4365]\n+- 'Filter ('Number < 2)\n   +- OneRowRelation\n"
     ]
    }
   ],
   "source": [
    "spark.sql(\"SELECT Number TBLFAKENAMES WHERE Number < 2\").show()"
   ]
  },
  {
   "cell_type": "code",
   "execution_count": null,
   "id": "fe6b0b39-5d1f-4371-ba56-fa571a02a84d",
   "metadata": {},
   "outputs": [],
   "source": []
  }
 ],
 "metadata": {
  "kernelspec": {
   "display_name": "Python 3",
   "language": "python",
   "name": "python3"
  },
  "language_info": {
   "codemirror_mode": {
    "name": "ipython",
    "version": 3
   },
   "file_extension": ".py",
   "mimetype": "text/x-python",
   "name": "python",
   "nbconvert_exporter": "python",
   "pygments_lexer": "ipython3",
   "version": "3.8.5"
  }
 },
 "nbformat": 4,
 "nbformat_minor": 5
}
